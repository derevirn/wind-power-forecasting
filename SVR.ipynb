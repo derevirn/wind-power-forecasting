{
 "cells": [
  {
   "cell_type": "code",
   "execution_count": 1,
   "metadata": {},
   "outputs": [],
   "source": [
    "import numpy as np\n",
    "import pandas as pd\n",
    "import matplotlib.pyplot as plt\n",
    "import seaborn as sns\n",
    "from sklearn.linear_model import LinearRegression\n",
    "from sklearn.metrics import mean_squared_error, r2_score\n",
    "from sklearn.preprocessing import StandardScaler, MinMaxScaler\n",
    "\n",
    "pd.set_option('display.max_rows', 500)\n",
    "pd.set_option('display.max_columns', 100)\n",
    "\n",
    "data = pd.read_excel(\"WindPark VI.xlsx\", index_col = 0, parse_dates = True)"
   ]
  },
  {
   "cell_type": "markdown",
   "metadata": {},
   "source": [
    "# Multivariate Time Series Forecasting using Support Vector Regression"
   ]
  },
  {
   "cell_type": "code",
   "execution_count": 2,
   "metadata": {},
   "outputs": [],
   "source": [
    "#a function to clean and prepare the data set\n",
    "def clean_data(df_):\n",
    "    \n",
    "    df = df_.copy()\n",
    "    \n",
    "    all_cols = df.columns\n",
    "    \n",
    "    #creating a list for each category of variables\n",
    "    active_power_avg = ['WTG 1-Active power avg [kW]', 'WTG 10-Active power avg [kW]', \n",
    "       'WTG 11-Active power avg [kW]', 'WTG 2-Active power avg [kW]', \n",
    "       'WTG 3-Active power avg [kW]', 'WTG 4-Active power avg [kW]',\n",
    "       'WTG 5-Active power avg [kW]', 'WTG 6-Active power avg [kW]',\n",
    "       'WTG 7-Active power avg [kW]', 'WTG 8-Active power avg [kW]',\n",
    "       'WTG 9-Active power avg [kW]']\n",
    "\n",
    "    wind_speed_avg = ['WTG 1-Wind speed avg [m/s]', 'WTG 10-Wind speed avg [m/s]', \n",
    "       'WTG 11-Wind speed avg [m/s]', 'WTG 2-Wind speed avg [m/s]', \n",
    "       'WTG 3-Wind speed avg [m/s]', 'WTG 4-Wind speed avg [m/s]',\n",
    "       'WTG 5-Wind speed avg [m/s]', 'WTG 6-Wind speed avg [m/s]',\n",
    "       'WTG 7-Wind speed avg [m/s]', 'WTG 8-Wind speed avg [m/s]',\n",
    "       'WTG 9-Wind speed avg [m/s]']\n",
    "\n",
    "    wind_direction_avg = ['WTG 1-Wind direction avg [°]', 'WTG 10-Wind direction avg [°]', \n",
    "       'WTG 11-Wind direction avg [°]', 'WTG 2-Wind direction avg [°]', \n",
    "       'WTG 3-Wind direction avg [°]', 'WTG 4-Wind direction avg [°]',\n",
    "       'WTG 5-Wind direction avg [°]', 'WTG 6-Wind direction avg [°]',\n",
    "       'WTG 7-Wind direction avg [°]', 'WTG 8-Wind direction avg [°]',\n",
    "       'WTG 9-Wind direction avg [°]']\n",
    "\n",
    "    ambient_temperature_avg = ['WTG 1-Ambient temperature avg [°C]', 'WTG 10-Ambient temperature avg [°C]', \n",
    "       'WTG 11-Ambient temperature avg [°C]', 'WTG 2-Ambient temperature avg [°C]', \n",
    "       'WTG 3-Ambient temperature avg [°C]', 'WTG 4-Ambient temperature avg [°C]',\n",
    "       'WTG 5-Ambient temperature avg [°C]', 'WTG 6-Ambient temperature avg [°C]',\n",
    "       'WTG 7-Ambient temperature avg [°C]', 'WTG 8-Ambient temperature avg [°C]',\n",
    "       'WTG 9-Ambient temperature avg [°C]']\n",
    "    \n",
    "    #using the interpolate function to remove null values\n",
    "    df = df.interpolate()\n",
    "    \n",
    "    #setting boundaries for the values of each category of variables, with the clip function\n",
    "    df[active_power_avg] = df[active_power_avg].clip(0, 850)\n",
    "    df[wind_speed_avg] = df[wind_speed_avg].clip(0, 30)\n",
    "    df[wind_direction_avg] = df[wind_direction_avg].clip(0, 360)\n",
    "    df[ambient_temperature_avg] = df[ambient_temperature_avg].clip(-10, 40)\n",
    "    \n",
    "    #creating new columns with the sum or average, depending on the category of variables\n",
    "    df[\"Total Active power avg [kW]\"] = df[active_power_avg].sum(axis = 1)\n",
    "    df[\"Wind speed avg [m/s]\"] = df[wind_speed_avg].mean(axis = 1)\n",
    "    df[\"Ambient temperature avg [°C]\"] = df[ambient_temperature_avg].mean(axis = 1)\n",
    "    df[\"Wind direction avg [°]\"] = df[wind_direction_avg].mean(axis = 1)\n",
    "    \n",
    "    #dropping the original columns\n",
    "    df.drop(all_cols, axis = 1, inplace = True)\n",
    "    \n",
    "    #setting an hourly frequency to the time series\n",
    "    df = df.resample('H').mean()\n",
    "    \n",
    "    return df"
   ]
  },
  {
   "cell_type": "code",
   "execution_count": 3,
   "metadata": {},
   "outputs": [
    {
     "data": {
      "text/html": [
       "<div>\n",
       "<style scoped>\n",
       "    .dataframe tbody tr th:only-of-type {\n",
       "        vertical-align: middle;\n",
       "    }\n",
       "\n",
       "    .dataframe tbody tr th {\n",
       "        vertical-align: top;\n",
       "    }\n",
       "\n",
       "    .dataframe thead th {\n",
       "        text-align: right;\n",
       "    }\n",
       "</style>\n",
       "<table border=\"1\" class=\"dataframe\">\n",
       "  <thead>\n",
       "    <tr style=\"text-align: right;\">\n",
       "      <th></th>\n",
       "      <th>Total Active power avg [kW]</th>\n",
       "      <th>Wind speed avg [m/s]</th>\n",
       "      <th>Ambient temperature avg [°C]</th>\n",
       "      <th>Wind direction avg [°]</th>\n",
       "    </tr>\n",
       "    <tr>\n",
       "      <th>TimeStamp</th>\n",
       "      <th></th>\n",
       "      <th></th>\n",
       "      <th></th>\n",
       "      <th></th>\n",
       "    </tr>\n",
       "  </thead>\n",
       "  <tbody>\n",
       "    <tr>\n",
       "      <th>2016-01-01 00:00:00</th>\n",
       "      <td>1372.666667</td>\n",
       "      <td>5.936364</td>\n",
       "      <td>-4.060606</td>\n",
       "      <td>32.151515</td>\n",
       "    </tr>\n",
       "    <tr>\n",
       "      <th>2016-01-01 01:00:00</th>\n",
       "      <td>664.116667</td>\n",
       "      <td>4.743939</td>\n",
       "      <td>-4.045455</td>\n",
       "      <td>26.448485</td>\n",
       "    </tr>\n",
       "    <tr>\n",
       "      <th>2016-01-01 02:00:00</th>\n",
       "      <td>13.583333</td>\n",
       "      <td>2.871212</td>\n",
       "      <td>-3.757576</td>\n",
       "      <td>67.734848</td>\n",
       "    </tr>\n",
       "    <tr>\n",
       "      <th>2016-01-01 03:00:00</th>\n",
       "      <td>176.716667</td>\n",
       "      <td>3.675758</td>\n",
       "      <td>-3.939394</td>\n",
       "      <td>60.374242</td>\n",
       "    </tr>\n",
       "    <tr>\n",
       "      <th>2016-01-01 04:00:00</th>\n",
       "      <td>64.116667</td>\n",
       "      <td>3.280303</td>\n",
       "      <td>-3.863636</td>\n",
       "      <td>69.712121</td>\n",
       "    </tr>\n",
       "  </tbody>\n",
       "</table>\n",
       "</div>"
      ],
      "text/plain": [
       "                     Total Active power avg [kW]  Wind speed avg [m/s]  \\\n",
       "TimeStamp                                                                \n",
       "2016-01-01 00:00:00                  1372.666667              5.936364   \n",
       "2016-01-01 01:00:00                   664.116667              4.743939   \n",
       "2016-01-01 02:00:00                    13.583333              2.871212   \n",
       "2016-01-01 03:00:00                   176.716667              3.675758   \n",
       "2016-01-01 04:00:00                    64.116667              3.280303   \n",
       "\n",
       "                     Ambient temperature avg [°C]  Wind direction avg [°]  \n",
       "TimeStamp                                                                  \n",
       "2016-01-01 00:00:00                     -4.060606               32.151515  \n",
       "2016-01-01 01:00:00                     -4.045455               26.448485  \n",
       "2016-01-01 02:00:00                     -3.757576               67.734848  \n",
       "2016-01-01 03:00:00                     -3.939394               60.374242  \n",
       "2016-01-01 04:00:00                     -3.863636               69.712121  "
      ]
     },
     "execution_count": 3,
     "metadata": {},
     "output_type": "execute_result"
    }
   ],
   "source": [
    "data = clean_data(data)\n",
    "data.head()"
   ]
  },
  {
   "cell_type": "markdown",
   "metadata": {},
   "source": [
    "First of all, we clean the data set, using the `clean_data()` function, which is based on what we did on the Exploratory Data Analysis part of the project."
   ]
  },
  {
   "cell_type": "code",
   "execution_count": 4,
   "metadata": {},
   "outputs": [],
   "source": [
    "def time_lags(df_, steps):\n",
    "    \n",
    "    df = df_.copy()\n",
    "    cols = df.columns\n",
    "        \n",
    "    for col in cols:\n",
    "        for i in range(1, steps + 1):\n",
    "            df[col + f\" (t-{str(i)})\"] = df[col].shift(i)\n",
    "            \n",
    "    df.dropna(inplace = True)        \n",
    "            \n",
    "    return df"
   ]
  },
  {
   "cell_type": "markdown",
   "metadata": {},
   "source": [
    "Supervised learning algorithms can't be used in time series forecasting problems, without modifying the data somehow. the `time_lags()` function adds a number of time lag columns on the data set. Those time lag values will be the features of the supervised learning algorithm. This is known as the sliding window method."
   ]
  },
  {
   "cell_type": "code",
   "execution_count": 23,
   "metadata": {},
   "outputs": [
    {
     "data": {
      "text/plain": [
       "<matplotlib.axes._subplots.AxesSubplot at 0x25141ce02e8>"
      ]
     },
     "execution_count": 23,
     "metadata": {},
     "output_type": "execute_result"
    },
    {
     "data": {
      "image/png": "[encoded data removed]",
      "text/plain": [
       "<Figure size 864x576 with 1 Axes>"
      ]
     },
     "metadata": {
      "needs_background": "light"
     },
     "output_type": "display_data"
    }
   ],
   "source": [
    "from sklearn.ensemble import ExtraTreesRegressor\n",
    "\n",
    "data_lags = time_lags(data, 5)\n",
    "\n",
    "x = data_lags.iloc[: , 1:]\n",
    "y = data_lags.iloc[: , 0]\n",
    "\n",
    "model = ExtraTreesRegressor(n_estimators = 100, n_jobs=-1)\n",
    "model.fit(x, y)\n",
    "\n",
    "feat_importances = pd.Series(model.feature_importances_, index=x.columns)\n",
    "plt.figure(figsize=(12,8))\n",
    "feat_importances.plot(kind='barh')"
   ]
  },
  {
   "cell_type": "markdown",
   "metadata": {},
   "source": [
    "We fitted an `ExtraTreeRegressor()` model to our data, to understand which features are the most important. As we expected, based on the exploratory data analysis, wind speed is the most important feature. On the other hand, wind direction and ambient temperature don't contribute any significant information, and will not be included in the forecasting model. We can also see that the importance of the time lags decreases, for every step taken back in time."
   ]
  },
  {
   "cell_type": "code",
   "execution_count": 12,
   "metadata": {},
   "outputs": [
    {
     "data": {
      "text/plain": [
       "LinearRegression(copy_X=True, fit_intercept=True, n_jobs=None, normalize=False)"
      ]
     },
     "execution_count": 12,
     "metadata": {},
     "output_type": "execute_result"
    }
   ],
   "source": [
    "lags = 5\n",
    "cols = [\"Total Active power avg [kW]\", \"Wind speed avg [m/s]\"]\n",
    "\n",
    "cols_arrange = ['Total Active power avg [kW]', 'Total Active power avg [kW] (t-1)',\n",
    "       'Total Active power avg [kW] (t-2)', 'Total Active power avg [kW] (t-3)',\n",
    "       'Total Active power avg [kW] (t-4)', 'Total Active power avg [kW] (t-5)',\n",
    "       'Wind speed avg [m/s]', 'Wind speed avg [m/s] (t-1)',\n",
    "       'Wind speed avg [m/s] (t-2)', 'Wind speed avg [m/s] (t-3)',\n",
    "       'Wind speed avg [m/s] (t-4)', 'Wind speed avg [m/s] (t-5)']\n",
    "\n",
    "#creating a univariate time series forecasting model for the wind speed variable\n",
    "#to use its predictions as input for the multivariate time series forecasting model\n",
    "data_wind = data.loc[:, [\"Wind speed avg [m/s]\"]]\n",
    "data_wind = time_lags(data_wind, lags)\n",
    "train_wind, test_wind = data_wind[\"2016\":\"2017\"], data_wind[\"2018\"]\n",
    "\n",
    "train_x_wind = train_wind.iloc[:, 1:].values\n",
    "train_y_wind = train_wind.iloc[:, 0].values\n",
    "\n",
    "test_x_wind = test_wind.iloc[:, 1:].values\n",
    "test_y_wind = test_wind.iloc[:, 0].values\n",
    "\n",
    "model_wind = LinearRegression()\n",
    "model_wind.fit(train_x_wind, train_y_wind)\n",
    "    \n",
    "#creating the multivariate time series forecasting model  \n",
    "data_power = time_lags(data[cols], lags)\n",
    "data_power = data_power[cols_arrange]\n",
    "train_power, test_power = data_power[\"2016\":\"2017\"], data_power[\"2018\"]\n",
    "\n",
    "train_x_power = train_power.iloc[:, 1:].values\n",
    "train_y_power = train_power.iloc[:, 0].values\n",
    "    \n",
    "test_x_power = test_power.iloc[:, 1:].values\n",
    "test_y_power = test_power.iloc[:, 0].values\n",
    "    \n",
    "model_power = LinearRegression()\n",
    "model_power.fit(train_x_power, train_y_power)\n"
   ]
  },
  {
   "cell_type": "code",
   "execution_count": 163,
   "metadata": {
    "collapsed": true,
    "jupyter": {
     "outputs_hidden": true
    }
   },
   "outputs": [
    {
     "ename": "ValueError",
     "evalue": "shapes (1,10) and (11,) not aligned: 10 (dim 1) != 11 (dim 0)",
     "output_type": "error",
     "traceback": [
      "\u001b[1;31m---------------------------------------------------------------------------\u001b[0m",
      "\u001b[1;31mValueError\u001b[0m                                Traceback (most recent call last)",
      "\u001b[1;32m<ipython-input-163-73bc17495af7>\u001b[0m in \u001b[0;36m<module>\u001b[1;34m\u001b[0m\n\u001b[0;32m     13\u001b[0m         \u001b[1;32mif\u001b[0m \u001b[0mj\u001b[0m \u001b[1;33m>\u001b[0m \u001b[1;36m0\u001b[0m\u001b[1;33m:\u001b[0m \u001b[0mnp\u001b[0m\u001b[1;33m.\u001b[0m\u001b[0minsert\u001b[0m\u001b[1;33m(\u001b[0m\u001b[0marr_power\u001b[0m\u001b[1;33m,\u001b[0m \u001b[1;36m0\u001b[0m\u001b[1;33m,\u001b[0m \u001b[0mpredictions\u001b[0m\u001b[1;33m[\u001b[0m\u001b[0mj\u001b[0m\u001b[1;33m-\u001b[0m\u001b[1;36m1\u001b[0m\u001b[1;33m]\u001b[0m\u001b[1;33m)\u001b[0m\u001b[1;33m\u001b[0m\u001b[1;33m\u001b[0m\u001b[0m\n\u001b[0;32m     14\u001b[0m \u001b[1;33m\u001b[0m\u001b[0m\n\u001b[1;32m---> 15\u001b[1;33m         \u001b[0mp\u001b[0m\u001b[1;33m[\u001b[0m\u001b[0mj\u001b[0m\u001b[1;33m]\u001b[0m \u001b[1;33m=\u001b[0m \u001b[0mmodel_power\u001b[0m\u001b[1;33m.\u001b[0m\u001b[0mpredict\u001b[0m\u001b[1;33m(\u001b[0m \u001b[1;33m[\u001b[0m\u001b[0mnp\u001b[0m\u001b[1;33m.\u001b[0m\u001b[0mconcatenate\u001b[0m\u001b[1;33m(\u001b[0m\u001b[1;33m(\u001b[0m\u001b[0marr_power\u001b[0m\u001b[1;33m,\u001b[0m \u001b[0marr_wind\u001b[0m\u001b[1;33m)\u001b[0m\u001b[1;33m)\u001b[0m\u001b[1;33m]\u001b[0m \u001b[1;33m)\u001b[0m\u001b[1;33m\u001b[0m\u001b[1;33m\u001b[0m\u001b[0m\n\u001b[0m\u001b[0;32m     16\u001b[0m         \u001b[0mpredictions\u001b[0m\u001b[1;33m.\u001b[0m\u001b[0mappend\u001b[0m\u001b[1;33m(\u001b[0m\u001b[0mp\u001b[0m\u001b[1;33m[\u001b[0m\u001b[0mj\u001b[0m\u001b[1;33m]\u001b[0m\u001b[1;33m)\u001b[0m\u001b[1;33m\u001b[0m\u001b[1;33m\u001b[0m\u001b[0m\n\u001b[0;32m     17\u001b[0m \u001b[1;33m\u001b[0m\u001b[0m\n",
      "\u001b[1;32m~\\Anaconda3\\lib\\site-packages\\sklearn\\linear_model\\base.py\u001b[0m in \u001b[0;36mpredict\u001b[1;34m(self, X)\u001b[0m\n\u001b[0;32m    219\u001b[0m             \u001b[0mReturns\u001b[0m \u001b[0mpredicted\u001b[0m \u001b[0mvalues\u001b[0m\u001b[1;33m.\u001b[0m\u001b[1;33m\u001b[0m\u001b[1;33m\u001b[0m\u001b[0m\n\u001b[0;32m    220\u001b[0m         \"\"\"\n\u001b[1;32m--> 221\u001b[1;33m         \u001b[1;32mreturn\u001b[0m \u001b[0mself\u001b[0m\u001b[1;33m.\u001b[0m\u001b[0m_decision_function\u001b[0m\u001b[1;33m(\u001b[0m\u001b[0mX\u001b[0m\u001b[1;33m)\u001b[0m\u001b[1;33m\u001b[0m\u001b[1;33m\u001b[0m\u001b[0m\n\u001b[0m\u001b[0;32m    222\u001b[0m \u001b[1;33m\u001b[0m\u001b[0m\n\u001b[0;32m    223\u001b[0m     \u001b[0m_preprocess_data\u001b[0m \u001b[1;33m=\u001b[0m \u001b[0mstaticmethod\u001b[0m\u001b[1;33m(\u001b[0m\u001b[0m_preprocess_data\u001b[0m\u001b[1;33m)\u001b[0m\u001b[1;33m\u001b[0m\u001b[1;33m\u001b[0m\u001b[0m\n",
      "\u001b[1;32m~\\Anaconda3\\lib\\site-packages\\sklearn\\linear_model\\base.py\u001b[0m in \u001b[0;36m_decision_function\u001b[1;34m(self, X)\u001b[0m\n\u001b[0;32m    204\u001b[0m         \u001b[0mX\u001b[0m \u001b[1;33m=\u001b[0m \u001b[0mcheck_array\u001b[0m\u001b[1;33m(\u001b[0m\u001b[0mX\u001b[0m\u001b[1;33m,\u001b[0m \u001b[0maccept_sparse\u001b[0m\u001b[1;33m=\u001b[0m\u001b[1;33m[\u001b[0m\u001b[1;34m'csr'\u001b[0m\u001b[1;33m,\u001b[0m \u001b[1;34m'csc'\u001b[0m\u001b[1;33m,\u001b[0m \u001b[1;34m'coo'\u001b[0m\u001b[1;33m]\u001b[0m\u001b[1;33m)\u001b[0m\u001b[1;33m\u001b[0m\u001b[1;33m\u001b[0m\u001b[0m\n\u001b[0;32m    205\u001b[0m         return safe_sparse_dot(X, self.coef_.T,\n\u001b[1;32m--> 206\u001b[1;33m                                dense_output=True) + self.intercept_\n\u001b[0m\u001b[0;32m    207\u001b[0m \u001b[1;33m\u001b[0m\u001b[0m\n\u001b[0;32m    208\u001b[0m     \u001b[1;32mdef\u001b[0m \u001b[0mpredict\u001b[0m\u001b[1;33m(\u001b[0m\u001b[0mself\u001b[0m\u001b[1;33m,\u001b[0m \u001b[0mX\u001b[0m\u001b[1;33m)\u001b[0m\u001b[1;33m:\u001b[0m\u001b[1;33m\u001b[0m\u001b[1;33m\u001b[0m\u001b[0m\n",
      "\u001b[1;32m~\\Anaconda3\\lib\\site-packages\\sklearn\\utils\\extmath.py\u001b[0m in \u001b[0;36msafe_sparse_dot\u001b[1;34m(a, b, dense_output)\u001b[0m\n\u001b[0;32m    140\u001b[0m         \u001b[1;32mreturn\u001b[0m \u001b[0mret\u001b[0m\u001b[1;33m\u001b[0m\u001b[1;33m\u001b[0m\u001b[0m\n\u001b[0;32m    141\u001b[0m     \u001b[1;32melse\u001b[0m\u001b[1;33m:\u001b[0m\u001b[1;33m\u001b[0m\u001b[1;33m\u001b[0m\u001b[0m\n\u001b[1;32m--> 142\u001b[1;33m         \u001b[1;32mreturn\u001b[0m \u001b[0mnp\u001b[0m\u001b[1;33m.\u001b[0m\u001b[0mdot\u001b[0m\u001b[1;33m(\u001b[0m\u001b[0ma\u001b[0m\u001b[1;33m,\u001b[0m \u001b[0mb\u001b[0m\u001b[1;33m)\u001b[0m\u001b[1;33m\u001b[0m\u001b[1;33m\u001b[0m\u001b[0m\n\u001b[0m\u001b[0;32m    143\u001b[0m \u001b[1;33m\u001b[0m\u001b[0m\n\u001b[0;32m    144\u001b[0m \u001b[1;33m\u001b[0m\u001b[0m\n",
      "\u001b[1;31mValueError\u001b[0m: shapes (1,10) and (11,) not aligned: 10 (dim 1) != 11 (dim 0)"
     ]
    }
   ],
   "source": [
    "steps = 36\n",
    "\n",
    "for i in range(0, len(test_x_power), steps):\n",
    "    arr_predict = test_x_power[i]\n",
    "    arr_power = arr_predict[0:5]\n",
    "    arr_wind = arr_predict[5:]\n",
    "    predictions = []\n",
    "    p = []\n",
    "    \n",
    "    for j in range(0, steps):\n",
    "        \n",
    "        np.insert(arr_wind, 0, model_wind.predict( [arr_wind[1:]] ))\n",
    "        if j > 0: np.insert(arr_power, 0, predictions[j-1])\n",
    "        \n",
    "        p[j] = model_power.predict( [np.concatenate((arr_power, arr_wind))] )\n",
    "        predictions.append(p[j])\n",
    "        \n",
    "        np.delete(arr_wind, -1)\n",
    "        np.delete(arr_power, -1)\n",
    "        \n",
    "                \n",
    "        \n",
    "        \n",
    "       \n"
   ]
  },
  {
   "cell_type": "code",
   "execution_count": null,
   "metadata": {},
   "outputs": [],
   "source": [
    "steps = 20\n",
    "lag = 5\n",
    "\n",
    "arr = np.array([0, 1, 2, 3, 4, 5, 0, 1, 2, 3, 4, 5])\n",
    "arr1 = arr[0:6]\n",
    "arr2 = arr[6:]\n",
    "    \n",
    "print(arr)\n",
    "for i in range(steps):\n",
    "    arr1 = np.delete(arr1, -1)\n",
    "    arr1 = np.insert(arr1, 0, i+5)\n",
    "\n",
    "    arr2 = np.delete(arr2, -1)\n",
    "    arr2 = np.insert(arr2, 0, i+5)\n",
    "\n",
    "    arr = np.concatenate((arr1,arr2))\n",
    "    print(arr)\n",
    "    \n",
    "    \n",
    "    "
   ]
  }
 ],
 "metadata": {
  "kernelspec": {
   "display_name": "Python 3",
   "language": "python",
   "name": "python3"
  },
  "language_info": {
   "codemirror_mode": {
    "name": "ipython",
    "version": 3
   },
   "file_extension": ".py",
   "mimetype": "text/x-python",
   "name": "python",
   "nbconvert_exporter": "python",
   "pygments_lexer": "ipython3",
   "version": "3.7.3"
  }
 },
 "nbformat": 4,
 "nbformat_minor": 4
}
