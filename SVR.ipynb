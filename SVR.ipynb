{
 "cells": [
  {
   "cell_type": "code",
   "execution_count": 1,
   "metadata": {},
   "outputs": [],
   "source": [
    "import numpy as np\n",
    "import pandas as pd\n",
    "import matplotlib.pyplot as plt\n",
    "import seaborn as sns\n",
    "from sklearn.linear_model import LinearRegression\n",
    "from sklearn.metrics import mean_squared_error, r2_score\n",
    "from sklearn.preprocessing import StandardScaler, MinMaxScaler\n",
    "\n",
    "pd.set_option('display.max_rows', 500)\n",
    "pd.set_option('display.max_columns', 100)\n",
    "\n",
    "data = pd.read_excel(\"WindPark VI.xlsx\", index_col = 0, parse_dates = True)"
   ]
  },
  {
   "cell_type": "markdown",
   "metadata": {},
   "source": [
    "# Multivariate Time Series Forecasting using Support Vector Regression"
   ]
  },
  {
   "cell_type": "code",
   "execution_count": 2,
   "metadata": {},
   "outputs": [],
   "source": [
    "#a function to clean and prepare the data set\n",
    "def clean_data(df_):\n",
    "    \n",
    "    df = df_.copy()\n",
    "    \n",
    "    all_cols = df.columns\n",
    "    \n",
    "    #creating a list for each category of variables\n",
    "    active_power_avg = ['WTG 1-Active power avg [kW]', 'WTG 10-Active power avg [kW]', \n",
    "       'WTG 11-Active power avg [kW]', 'WTG 2-Active power avg [kW]', \n",
    "       'WTG 3-Active power avg [kW]', 'WTG 4-Active power avg [kW]',\n",
    "       'WTG 5-Active power avg [kW]', 'WTG 6-Active power avg [kW]',\n",
    "       'WTG 7-Active power avg [kW]', 'WTG 8-Active power avg [kW]',\n",
    "       'WTG 9-Active power avg [kW]']\n",
    "\n",
    "    wind_speed_avg = ['WTG 1-Wind speed avg [m/s]', 'WTG 10-Wind speed avg [m/s]', \n",
    "       'WTG 11-Wind speed avg [m/s]', 'WTG 2-Wind speed avg [m/s]', \n",
    "       'WTG 3-Wind speed avg [m/s]', 'WTG 4-Wind speed avg [m/s]',\n",
    "       'WTG 5-Wind speed avg [m/s]', 'WTG 6-Wind speed avg [m/s]',\n",
    "       'WTG 7-Wind speed avg [m/s]', 'WTG 8-Wind speed avg [m/s]',\n",
    "       'WTG 9-Wind speed avg [m/s]']\n",
    "\n",
    "    wind_direction_avg = ['WTG 1-Wind direction avg [°]', 'WTG 10-Wind direction avg [°]', \n",
    "       'WTG 11-Wind direction avg [°]', 'WTG 2-Wind direction avg [°]', \n",
    "       'WTG 3-Wind direction avg [°]', 'WTG 4-Wind direction avg [°]',\n",
    "       'WTG 5-Wind direction avg [°]', 'WTG 6-Wind direction avg [°]',\n",
    "       'WTG 7-Wind direction avg [°]', 'WTG 8-Wind direction avg [°]',\n",
    "       'WTG 9-Wind direction avg [°]']\n",
    "\n",
    "    ambient_temperature_avg = ['WTG 1-Ambient temperature avg [°C]', 'WTG 10-Ambient temperature avg [°C]', \n",
    "       'WTG 11-Ambient temperature avg [°C]', 'WTG 2-Ambient temperature avg [°C]', \n",
    "       'WTG 3-Ambient temperature avg [°C]', 'WTG 4-Ambient temperature avg [°C]',\n",
    "       'WTG 5-Ambient temperature avg [°C]', 'WTG 6-Ambient temperature avg [°C]',\n",
    "       'WTG 7-Ambient temperature avg [°C]', 'WTG 8-Ambient temperature avg [°C]',\n",
    "       'WTG 9-Ambient temperature avg [°C]']\n",
    "    \n",
    "    #using the interpolate function to remove null values\n",
    "    df = df.interpolate()\n",
    "    \n",
    "    #setting boundaries for the values of each category of variables, with the clip function\n",
    "    df[active_power_avg] = df[active_power_avg].clip(0, 850)\n",
    "    df[wind_speed_avg] = df[wind_speed_avg].clip(0, 30)\n",
    "    df[wind_direction_avg] = df[wind_direction_avg].clip(0, 360)\n",
    "    df[ambient_temperature_avg] = df[ambient_temperature_avg].clip(-10, 40)\n",
    "    \n",
    "    #creating new columns with the sum or average, depending on the category of variables\n",
    "    df[\"Total Active power avg [kW]\"] = df[active_power_avg].sum(axis = 1)\n",
    "    df[\"Wind speed avg [m/s]\"] = df[wind_speed_avg].mean(axis = 1)\n",
    "    df[\"Ambient temperature avg [°C]\"] = df[ambient_temperature_avg].mean(axis = 1)\n",
    "    df[\"Wind direction avg [°]\"] = df[wind_direction_avg].mean(axis = 1)\n",
    "    \n",
    "    #dropping the original columns\n",
    "    df.drop(all_cols, axis = 1, inplace = True)\n",
    "    \n",
    "    #setting an hourly frequency to the time series\n",
    "    df = df.resample('H').mean()\n",
    "    \n",
    "    return df"
   ]
  },
  {
   "cell_type": "code",
   "execution_count": 3,
   "metadata": {},
   "outputs": [
    {
     "data": {
      "text/html": [
       "<div>\n",
       "<style scoped>\n",
       "    .dataframe tbody tr th:only-of-type {\n",
       "        vertical-align: middle;\n",
       "    }\n",
       "\n",
       "    .dataframe tbody tr th {\n",
       "        vertical-align: top;\n",
       "    }\n",
       "\n",
       "    .dataframe thead th {\n",
       "        text-align: right;\n",
       "    }\n",
       "</style>\n",
       "<table border=\"1\" class=\"dataframe\">\n",
       "  <thead>\n",
       "    <tr style=\"text-align: right;\">\n",
       "      <th></th>\n",
       "      <th>Total Active power avg [kW]</th>\n",
       "      <th>Wind speed avg [m/s]</th>\n",
       "      <th>Ambient temperature avg [°C]</th>\n",
       "      <th>Wind direction avg [°]</th>\n",
       "    </tr>\n",
       "    <tr>\n",
       "      <th>TimeStamp</th>\n",
       "      <th></th>\n",
       "      <th></th>\n",
       "      <th></th>\n",
       "      <th></th>\n",
       "    </tr>\n",
       "  </thead>\n",
       "  <tbody>\n",
       "    <tr>\n",
       "      <th>2016-01-01 00:00:00</th>\n",
       "      <td>1372.666667</td>\n",
       "      <td>5.936364</td>\n",
       "      <td>-4.060606</td>\n",
       "      <td>32.151515</td>\n",
       "    </tr>\n",
       "    <tr>\n",
       "      <th>2016-01-01 01:00:00</th>\n",
       "      <td>664.116667</td>\n",
       "      <td>4.743939</td>\n",
       "      <td>-4.045455</td>\n",
       "      <td>26.448485</td>\n",
       "    </tr>\n",
       "    <tr>\n",
       "      <th>2016-01-01 02:00:00</th>\n",
       "      <td>13.583333</td>\n",
       "      <td>2.871212</td>\n",
       "      <td>-3.757576</td>\n",
       "      <td>67.734848</td>\n",
       "    </tr>\n",
       "    <tr>\n",
       "      <th>2016-01-01 03:00:00</th>\n",
       "      <td>176.716667</td>\n",
       "      <td>3.675758</td>\n",
       "      <td>-3.939394</td>\n",
       "      <td>60.374242</td>\n",
       "    </tr>\n",
       "    <tr>\n",
       "      <th>2016-01-01 04:00:00</th>\n",
       "      <td>64.116667</td>\n",
       "      <td>3.280303</td>\n",
       "      <td>-3.863636</td>\n",
       "      <td>69.712121</td>\n",
       "    </tr>\n",
       "  </tbody>\n",
       "</table>\n",
       "</div>"
      ],
      "text/plain": [
       "                     Total Active power avg [kW]  Wind speed avg [m/s]  \\\n",
       "TimeStamp                                                                \n",
       "2016-01-01 00:00:00                  1372.666667              5.936364   \n",
       "2016-01-01 01:00:00                   664.116667              4.743939   \n",
       "2016-01-01 02:00:00                    13.583333              2.871212   \n",
       "2016-01-01 03:00:00                   176.716667              3.675758   \n",
       "2016-01-01 04:00:00                    64.116667              3.280303   \n",
       "\n",
       "                     Ambient temperature avg [°C]  Wind direction avg [°]  \n",
       "TimeStamp                                                                  \n",
       "2016-01-01 00:00:00                     -4.060606               32.151515  \n",
       "2016-01-01 01:00:00                     -4.045455               26.448485  \n",
       "2016-01-01 02:00:00                     -3.757576               67.734848  \n",
       "2016-01-01 03:00:00                     -3.939394               60.374242  \n",
       "2016-01-01 04:00:00                     -3.863636               69.712121  "
      ]
     },
     "execution_count": 3,
     "metadata": {},
     "output_type": "execute_result"
    }
   ],
   "source": [
    "data = clean_data(data)\n",
    "data.head()"
   ]
  },
  {
   "cell_type": "markdown",
   "metadata": {},
   "source": [
    "First of all, we clean the data set, using the `clean_data()` function, which is based on what we did on the Exploratory Data Analysis part of the project."
   ]
  },
  {
   "cell_type": "code",
   "execution_count": 4,
   "metadata": {},
   "outputs": [],
   "source": [
    "def time_lags(df_, steps):\n",
    "    \n",
    "    df = df_.copy()\n",
    "    cols = df.columns\n",
    "        \n",
    "    for col in cols:\n",
    "        for i in range(1, steps + 1):\n",
    "            df[col + f\" (t-{str(i)})\"] = df[col].shift(i)\n",
    "            \n",
    "    df.dropna(inplace = True)        \n",
    "            \n",
    "    return df"
   ]
  },
  {
   "cell_type": "code",
   "execution_count": 261,
   "metadata": {},
   "outputs": [
    {
     "data": {
      "text/plain": [
       "LinearRegression(copy_X=True, fit_intercept=True, n_jobs=None, normalize=False)"
      ]
     },
     "execution_count": 261,
     "metadata": {},
     "output_type": "execute_result"
    }
   ],
   "source": [
    "cols = [\"Wind speed avg [m/s]\", \"Ambient temperature avg [°C]\",\n",
    "        \"Wind direction avg [°]\"]\n",
    "\n",
    "lags = 5\n",
    "\n",
    "var_model = {}\n",
    "data1 = {}\n",
    "train = {}\n",
    "test = {}\n",
    "\n",
    "train_x = {}\n",
    "train_y = {}\n",
    "test_x = {}\n",
    "test_y = {}\n",
    "\n",
    "#creating univariate series forecasts for each independent variable,\n",
    "#to use their predictions as input for the multivariate series forecast\n",
    "for col in cols:\n",
    "    data1[col] = data.loc[:, [col]]\n",
    "    data1[col] = time_lags(data1[col], lags)\n",
    "    train[col], test[col] = data1[col][\"2016\":\"2017\"], data1[col][\"2018\"]\n",
    "    \n",
    "    train_x[col] = train[col].iloc[:, 1:].values\n",
    "    train_y[col] = train[col].iloc[:, 0].values\n",
    "    \n",
    "    test_x[col] = test[col].iloc[:, 1:].values\n",
    "    test_y[col] = test[col].iloc[:, 0].values\n",
    "    \n",
    "    var_model[col] = LinearRegression()\n",
    "    var_model[col].fit(train_x[col], train_y[col])\n",
    "    \n",
    "    \n",
    "data_power = time_lags(data, lags)\n",
    "train_power, test_power = data_power[\"2016\":\"2017\"], data_power[\"2018\"]\n",
    "\n",
    "train_x_power = train_power.iloc[:, 1:].values\n",
    "train_y_power = train_power.iloc[:, 0].values\n",
    "    \n",
    "test_x_power = test_power.iloc[:, 1:].values\n",
    "test_y_power = test_power.iloc[:, 0].values\n",
    "    \n",
    "var_model_power = LinearRegression()\n",
    "var_model_power.fit(train_x_power, train_y_power)"
   ]
  },
  {
   "cell_type": "code",
   "execution_count": 257,
   "metadata": {},
   "outputs": [
    {
     "ename": "AttributeError",
     "evalue": "'dict' object has no attribute 'predict'",
     "output_type": "error",
     "traceback": [
      "\u001b[1;31m---------------------------------------------------------------------------\u001b[0m",
      "\u001b[1;31mAttributeError\u001b[0m                            Traceback (most recent call last)",
      "\u001b[1;32m<ipython-input-257-fe299965e6f4>\u001b[0m in \u001b[0;36m<module>\u001b[1;34m\u001b[0m\n\u001b[0;32m      5\u001b[0m \u001b[1;33m\u001b[0m\u001b[0m\n\u001b[0;32m      6\u001b[0m \u001b[1;32mfor\u001b[0m \u001b[0mi\u001b[0m \u001b[1;32min\u001b[0m \u001b[0mrange\u001b[0m\u001b[1;33m(\u001b[0m\u001b[1;36m0\u001b[0m\u001b[1;33m,\u001b[0m \u001b[0msteps\u001b[0m\u001b[1;33m)\u001b[0m\u001b[1;33m:\u001b[0m\u001b[1;33m\u001b[0m\u001b[1;33m\u001b[0m\u001b[0m\n\u001b[1;32m----> 7\u001b[1;33m     \u001b[0mprediction\u001b[0m \u001b[1;33m=\u001b[0m \u001b[0mmodel\u001b[0m\u001b[1;33m.\u001b[0m\u001b[0mpredict\u001b[0m\u001b[1;33m(\u001b[0m\u001b[0mX\u001b[0m\u001b[1;33m)\u001b[0m\u001b[1;33m\u001b[0m\u001b[1;33m\u001b[0m\u001b[0m\n\u001b[0m\u001b[0;32m      8\u001b[0m     \u001b[0mp\u001b[0m \u001b[1;33m=\u001b[0m \u001b[0mnp\u001b[0m\u001b[1;33m.\u001b[0m\u001b[0mappend\u001b[0m\u001b[1;33m(\u001b[0m\u001b[0mp\u001b[0m\u001b[1;33m,\u001b[0m \u001b[0mprediction\u001b[0m\u001b[1;33m)\u001b[0m\u001b[1;33m\u001b[0m\u001b[1;33m\u001b[0m\u001b[0m\n\u001b[0;32m      9\u001b[0m     \u001b[0mX\u001b[0m \u001b[1;33m=\u001b[0m \u001b[0mnp\u001b[0m\u001b[1;33m.\u001b[0m\u001b[0mdelete\u001b[0m\u001b[1;33m(\u001b[0m\u001b[0mX\u001b[0m\u001b[1;33m,\u001b[0m \u001b[1;33m-\u001b[0m\u001b[1;36m1\u001b[0m\u001b[1;33m)\u001b[0m\u001b[1;33m\u001b[0m\u001b[1;33m\u001b[0m\u001b[0m\n",
      "\u001b[1;31mAttributeError\u001b[0m: 'dict' object has no attribute 'predict'"
     ]
    }
   ],
   "source": [
    "steps = 12\n",
    "\n",
    "X = np.array([[3319.900000, 2295.800000, 1091.416667, 565.950000, 294.016667]])\n",
    "p = np.array([])\n",
    "\n",
    "for i in range(0, steps):\n",
    "    prediction = model.predict(X)\n",
    "    p = np.append(p, prediction)\n",
    "    X = np.delete(X, -1)\n",
    "    X = np.insert(X, 0, prediction)\n",
    "    X = np.reshape(X, (1, -1))\n",
    "\n",
    "actual = data1.iloc[16:28, 0].values\n",
    "print(np.sqrt(mean_squared_error(actual, p)))"
   ]
  },
  {
   "cell_type": "code",
   "execution_count": null,
   "metadata": {},
   "outputs": [],
   "source": []
  }
 ],
 "metadata": {
  "kernelspec": {
   "display_name": "Python 3",
   "language": "python",
   "name": "python3"
  },
  "language_info": {
   "codemirror_mode": {
    "name": "ipython",
    "version": 3
   },
   "file_extension": ".py",
   "mimetype": "text/x-python",
   "name": "python",
   "nbconvert_exporter": "python",
   "pygments_lexer": "ipython3",
   "version": "3.7.3"
  }
 },
 "nbformat": 4,
 "nbformat_minor": 4
}
